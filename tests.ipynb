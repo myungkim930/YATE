{
 "cells": [
  {
   "cell_type": "code",
   "execution_count": 2,
   "metadata": {},
   "outputs": [],
   "source": [
    "%load_ext autoreload\n",
    "%autoreload 2"
   ]
  },
  {
   "cell_type": "code",
   "execution_count": 3,
   "metadata": {},
   "outputs": [],
   "source": [
    "from baselines.resnet import create_resnet_regressor_skorch"
   ]
  },
  {
   "cell_type": "code",
   "execution_count": 13,
   "metadata": {},
   "outputs": [
    {
     "name": "stdout",
     "output_type": "stream",
     "text": [
      "resnet regressor\n",
      "categorical_indicator None\n",
      "Numerical features: 10\n",
      "Categories None\n"
     ]
    },
    {
     "data": {
      "text/plain": [
       "array([[0.2619761 ],\n",
       "       [0.26403278],\n",
       "       [0.2631837 ],\n",
       "       [0.2596837 ],\n",
       "       [0.26014388],\n",
       "       [0.263487  ],\n",
       "       [0.26248023],\n",
       "       [0.26013896],\n",
       "       [0.2612427 ],\n",
       "       [0.26128918],\n",
       "       [0.2626458 ],\n",
       "       [0.2628029 ],\n",
       "       [0.2623119 ],\n",
       "       [0.2612059 ],\n",
       "       [0.26017997],\n",
       "       [0.26455107],\n",
       "       [0.26177406],\n",
       "       [0.26357728],\n",
       "       [0.25864768],\n",
       "       [0.26210615],\n",
       "       [0.264289  ],\n",
       "       [0.25883865],\n",
       "       [0.26404336],\n",
       "       [0.2610688 ],\n",
       "       [0.2599328 ],\n",
       "       [0.2611954 ],\n",
       "       [0.26085174],\n",
       "       [0.2612295 ],\n",
       "       [0.25850093],\n",
       "       [0.26114985],\n",
       "       [0.26157728],\n",
       "       [0.2611423 ],\n",
       "       [0.26279855],\n",
       "       [0.26464242],\n",
       "       [0.25936916],\n",
       "       [0.26053149],\n",
       "       [0.2593689 ],\n",
       "       [0.26137447],\n",
       "       [0.26202732],\n",
       "       [0.25979975],\n",
       "       [0.26087087],\n",
       "       [0.26146635],\n",
       "       [0.26240346],\n",
       "       [0.26183054],\n",
       "       [0.2610219 ],\n",
       "       [0.26118898],\n",
       "       [0.26066548],\n",
       "       [0.25904503],\n",
       "       [0.26106292],\n",
       "       [0.259788  ],\n",
       "       [0.26228404],\n",
       "       [0.25938684],\n",
       "       [0.26161233],\n",
       "       [0.26197702],\n",
       "       [0.26180536],\n",
       "       [0.26125923],\n",
       "       [0.26053652],\n",
       "       [0.26086116],\n",
       "       [0.2619025 ],\n",
       "       [0.2596641 ],\n",
       "       [0.2612329 ],\n",
       "       [0.26155418],\n",
       "       [0.26431444],\n",
       "       [0.25907955],\n",
       "       [0.25936905],\n",
       "       [0.2623988 ],\n",
       "       [0.2599282 ],\n",
       "       [0.26028848],\n",
       "       [0.26080528],\n",
       "       [0.2630654 ],\n",
       "       [0.26220325],\n",
       "       [0.2586984 ],\n",
       "       [0.25978354],\n",
       "       [0.26071924],\n",
       "       [0.25953084],\n",
       "       [0.26134384],\n",
       "       [0.26056162],\n",
       "       [0.26016426],\n",
       "       [0.26028284],\n",
       "       [0.2635409 ],\n",
       "       [0.25975916],\n",
       "       [0.2596169 ],\n",
       "       [0.2628727 ],\n",
       "       [0.2596585 ],\n",
       "       [0.25961202],\n",
       "       [0.26111358],\n",
       "       [0.2602247 ],\n",
       "       [0.25969535],\n",
       "       [0.2598658 ],\n",
       "       [0.260327  ],\n",
       "       [0.2609868 ],\n",
       "       [0.26014605],\n",
       "       [0.2642334 ],\n",
       "       [0.26043522],\n",
       "       [0.26012388],\n",
       "       [0.2617    ],\n",
       "       [0.26398525],\n",
       "       [0.25997072],\n",
       "       [0.2631615 ],\n",
       "       [0.2628941 ]], dtype=float32)"
      ]
     },
     "execution_count": 13,
     "metadata": {},
     "output_type": "execute_result"
    }
   ],
   "source": [
    "import numpy as np\n",
    "model = create_resnet_regressor_skorch(id=2, optimizer=\"adamw\", batch_size=128,\n",
    "                                       module__d_embedding = 128, \n",
    "                                       module__d=128, \n",
    "                                       module__d_hidden_factor=2, \n",
    "                                       module__n_layers=8,\n",
    "                                        module__activation=\"relu\", \n",
    "                                        module__normalization=\"layernorm\", \n",
    "                                        module__hidden_dropout=0.0,\n",
    "                                        module__residual_dropout=0.0,\n",
    ")\n",
    "\n",
    "# create toy data\n",
    "X = np.random.rand(100, 10)\n",
    "y = np.random.rand(100, 1)\n",
    "# convert to float32\n",
    "X = X.astype(np.float32)\n",
    "y = y.astype(np.float32)\n",
    "\n",
    "# fit the model\n",
    "model.fit(X, y)\n",
    "\n",
    "# predict\n",
    "model.predict(X)"
   ]
  },
  {
   "cell_type": "code",
   "execution_count": 22,
   "metadata": {},
   "outputs": [
    {
     "name": "stdout",
     "output_type": "stream",
     "text": [
      "resnet regressor\n",
      "categorical_indicator None\n",
      "Numerical features: 7\n",
      "Categories None\n"
     ]
    },
    {
     "ename": "TypeError",
     "evalue": "score() got an unexpected keyword argument 'metric'",
     "output_type": "error",
     "traceback": [
      "\u001b[0;31m---------------------------------------------------------------------------\u001b[0m",
      "\u001b[0;31mTypeError\u001b[0m                                 Traceback (most recent call last)",
      "Cell \u001b[0;32mIn[22], line 50\u001b[0m\n\u001b[1;32m     47\u001b[0m model\u001b[39m.\u001b[39mfit(X_train, y_train)\n\u001b[1;32m     49\u001b[0m \u001b[39m# score on test set\u001b[39;00m\n\u001b[0;32m---> 50\u001b[0m model\u001b[39m.\u001b[39;49mscore(X_test, y_test, metric\u001b[39m=\u001b[39;49m\u001b[39m\"\u001b[39;49m\u001b[39mneg_root_mean_squared_error\u001b[39;49m\u001b[39m\"\u001b[39;49m)\n",
      "\u001b[0;31mTypeError\u001b[0m: score() got an unexpected keyword argument 'metric'"
     ]
    }
   ],
   "source": [
    "# Try on a real dataset\n",
    "import openml\n",
    "from sklearn.model_selection import train_test_split\n",
    "from sklearn.preprocessing import StandardScaler\n",
    "from sklearn.impute import SimpleImputer\n",
    "from sklearn.compose import ColumnTransformer\n",
    "from sklearn.pipeline import Pipeline\n",
    "\n",
    "dataset = openml.datasets.get_dataset(31)\n",
    "X, y, categorical_indicator, attribute_names = dataset.get_data(\n",
    "    dataset_format=\"array\", target=dataset.default_target_attribute\n",
    ")\n",
    "# convert to float32\n",
    "X = X.astype(np.float32)\n",
    "y = y.astype(np.float32)\n",
    "\n",
    "X_train, X_test, y_train, y_test = train_test_split(X, y, random_state=42)\n",
    "\n",
    "numeric_transformer = Pipeline(\n",
    "    steps=[\n",
    "        (\"imputer\", SimpleImputer(strategy=\"median\")),\n",
    "        (\"scaler\", StandardScaler()),\n",
    "    ]\n",
    ")\n",
    "\n",
    "preprocessor = ColumnTransformer(\n",
    "    transformers=[\n",
    "        (\"num\", numeric_transformer, ~np.array(categorical_indicator).astype(bool)),\n",
    "    ]\n",
    ")\n",
    "\n",
    "X_train = preprocessor.fit_transform(X_train)\n",
    "X_test = preprocessor.transform(X_test)\n",
    "\n",
    "model = create_resnet_regressor_skorch(id=2, optimizer=\"adamw\", batch_size=128,\n",
    "                                        module__d_embedding = 128,\n",
    "                                        module__d=128,\n",
    "                                        module__d_hidden_factor=2,\n",
    "                                        module__n_layers=8,\n",
    "                                        module__activation=\"relu\",\n",
    "                                        module__normalization=\"layernorm\",\n",
    "                                        module__hidden_dropout=0.0,\n",
    "                                        module__residual_dropout=0.0,\n",
    ")\n",
    "\n",
    "# fit the model\n",
    "model.fit(X_train, y_train)\n",
    "\n",
    "# score on test set\n",
    "model.score(X_test, y_test)"
   ]
  },
  {
   "cell_type": "code",
   "execution_count": 20,
   "metadata": {},
   "outputs": [
    {
     "data": {
      "text/plain": [
       "-0.026179184311756032"
      ]
     },
     "execution_count": 20,
     "metadata": {},
     "output_type": "execute_result"
    }
   ],
   "source": [
    "# try with a Gradient Boosting Regressor\n",
    "from sklearn.ensemble import GradientBoostingRegressor\n",
    "\n",
    "model = GradientBoostingRegressor()\n",
    "model.fit(X_train, y_train)\n",
    "\n",
    "model.score(X_test, y_test, "
   ]
  },
  {
   "cell_type": "code",
   "execution_count": null,
   "metadata": {},
   "outputs": [],
   "source": []
  }
 ],
 "metadata": {
  "kernelspec": {
   "display_name": "yate",
   "language": "python",
   "name": "python3"
  },
  "language_info": {
   "codemirror_mode": {
    "name": "ipython",
    "version": 3
   },
   "file_extension": ".py",
   "mimetype": "text/x-python",
   "name": "python",
   "nbconvert_exporter": "python",
   "pygments_lexer": "ipython3",
   "version": "3.9.16"
  },
  "orig_nbformat": 4
 },
 "nbformat": 4,
 "nbformat_minor": 2
}
